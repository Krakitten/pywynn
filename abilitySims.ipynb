{
 "cells": [
  {
   "cell_type": "code",
   "execution_count": 1,
   "metadata": {},
   "outputs": [
    {
     "name": "stdout",
     "output_type": "stream",
     "text": [
      "parry:  0.06001 per spell\n",
      "sandbag:  0.71036 per second\n"
     ]
    }
   ],
   "source": [
    "import numpy as np\n",
    "# parry sandbag\n",
    "\n",
    "dodge = 0.29\n",
    "hitsPerSecond = 1\n",
    "\n",
    "# 0.3 for nirvana 0 for other. Assuming a nirvana free spell still consumes the parry\n",
    "freeSpellChance = 0.3\n",
    "spellsPerSecond = 3\n",
    "\n",
    "timesteps = 100000\n",
    "secondsPerHit = 1.0 / hitsPerSecond\n",
    "endTime = timesteps * secondsPerHit\n",
    "\n",
    "parryCooldown = 3\n",
    "sandbagCooldown = 1\n",
    "sandbagReduction = -3\n",
    "sandbagRate = 1.0 # proportion of hits trigger sandbag\n",
    "\n",
    "parryTimer = 0\n",
    "sandbagTimer = 0\n",
    "\n",
    "parryCount = 0\n",
    "sandbagCount = 0\n",
    "\n",
    "\n",
    "\n",
    "for i in range(0, int(endTime * hitsPerSecond)):\n",
    "    # parry\n",
    "    if parryTimer <= 0:\n",
    "        if np.random.uniform() < dodge:\n",
    "            parryTimer = parryCooldown\n",
    "            if np.random.uniform() > freeSpellChance: # don't count if nirvana was already free\n",
    "                parryCount += 1\n",
    "\n",
    "    # sandbag\n",
    "    if sandbagTimer <= 0:\n",
    "        if np.random.uniform() > dodge: # cant activate on dodge\n",
    "            if np.random.uniform() < sandbagRate:\n",
    "                sandbagTimer = sandbagCooldown\n",
    "                parryTimer += sandbagReduction\n",
    "                sandbagCount += 1\n",
    "\n",
    "    # tick\n",
    "    parryTimer -= secondsPerHit\n",
    "    sandbagTimer -= secondsPerHit\n",
    "\n",
    "parryCount /= endTime\n",
    "sandbagCount /= endTime\n",
    "\n",
    "print(\"parry: \", parryCount / spellsPerSecond, \"per spell\")\n",
    "print(\"sandbag: \", sandbagCount, \"per second\")"
   ]
  },
  {
   "cell_type": "code",
   "execution_count": null,
   "metadata": {},
   "outputs": [],
   "source": []
  }
 ],
 "metadata": {
  "kernelspec": {
   "display_name": "torch",
   "language": "python",
   "name": "python3"
  },
  "language_info": {
   "codemirror_mode": {
    "name": "ipython",
    "version": 3
   },
   "file_extension": ".py",
   "mimetype": "text/x-python",
   "name": "python",
   "nbconvert_exporter": "python",
   "pygments_lexer": "ipython3",
   "version": "3.10.4"
  },
  "orig_nbformat": 4
 },
 "nbformat": 4,
 "nbformat_minor": 2
}
