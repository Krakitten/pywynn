{
 "cells": [
  {
   "cell_type": "code",
   "execution_count": 1,
   "id": "896a4d78",
   "metadata": {},
   "outputs": [],
   "source": [
    "import numpy as np\n",
    "import matplotlib.colors as c\n",
    "import matplotlib.pyplot as plt\n",
    "import imageio.v2 as imageio\n",
    "import os\n",
    "np.random.seed(19680801)\n"
   ]
  },
  {
   "cell_type": "code",
   "execution_count": 2,
   "id": "59999ca6",
   "metadata": {},
   "outputs": [
    {
     "name": "stdout",
     "output_type": "stream",
     "text": [
      "1.618033988749895 0.6180339887498948\n"
     ]
    }
   ],
   "source": [
    "phi = (np.sqrt(5) + 1) / 2\n",
    "print(phi, 1/phi)"
   ]
  },
  {
   "cell_type": "code",
   "execution_count": 11,
   "id": "aa8e6699",
   "metadata": {},
   "outputs": [],
   "source": [
    "\n",
    "colors_rain = [\n",
    "    \"red\",\n",
    "    \"orange\",\n",
    "    \"yellow\",\n",
    "    \"green\", # bottom\n",
    "    \"cyan\",\n",
    "    \"blue\",\n",
    "    \"purple\",\n",
    "    \"magenta\", # top\n",
    "]\n",
    "\n",
    "colors_far = [\n",
    "    \"#ff76ca\",\n",
    "    \"#999999\",\n",
    "    \"#674ea7\",\n",
    "    \"#3e66c7\",\n",
    "    \"#bdd1f7\",\n",
    "    \"#e64f72\",\n",
    "    \"#27c5ff\",\n",
    "    \"#0892b4\"\n",
    "]\n",
    "\n",
    "colors = colors_far\n",
    "\n",
    "cmap = c.ListedColormap(colors)\n",
    "star = False\n",
    "dots = True\n",
    "def make_spiral(d_theta=1/phi, d_r=0.001, n=1000, r_min=0, d_color=1/8, star_arms=0, s=10):\n",
    "    idx = np.arange(n)\n",
    "    # print(d_r)\n",
    "    r = d_r * idx + r_min\n",
    "    theta = (d_theta * idx - 1/8 + 1 % 1) * 2 * np.pi\n",
    "    color = idx % 8\n",
    "    # print(theta)\n",
    "\n",
    "    fig = plt.figure()\n",
    "    ax = fig.add_subplot(projection='polar')\n",
    "    plt.axis('off')\n",
    "    if dots:\n",
    "        ax.scatter(theta, r, c=color, cmap=cmap, s=s)\n",
    "    ax.set_ylim([0,1.1])\n",
    "    \n",
    "    if star:\n",
    "        # print(star_arms)\n",
    "        for i in range(1,star_arms+1):\n",
    "            start_idx = (-1-i)%8-8\n",
    "            end_idx = -i%8-8\n",
    "            # print(start_idx, end_idx)\n",
    "            # print(theta[start_idx:end_idx], r[start_idx:end_idx])\n",
    "            ax.plot([theta[start_idx], theta[end_idx]], [r[start_idx], r[end_idx]], color=colors[-i])\n",
    "        \n",
    "        sep = 8 * 2\n",
    "        if n > sep + star_arms + 1:\n",
    "            for i in range(1,star_arms+1):\n",
    "                start_idx = (-1-i)%8-8\n",
    "                end_idx = -i%8-8\n",
    "                # print(start_idx, end_idx)\n",
    "                # print(theta[start_idx:end_idx], r[start_idx:end_idx])\n",
    "                ax.plot([theta[start_idx-sep], theta[end_idx-sep]], [r[start_idx-sep], r[end_idx-sep]], color=colors[(-i+1)%8])\n",
    "\n",
    "        sep = 8 * 4\n",
    "        if n > sep + star_arms + 1:\n",
    "            for i in range(1,star_arms+1):\n",
    "                start_idx = (-1-i)%8-8\n",
    "                end_idx = -i%8-8\n",
    "                # print(start_idx, end_idx)\n",
    "                # print(theta[start_idx:end_idx], r[start_idx:end_idx])\n",
    "                ax.plot([theta[start_idx-sep], theta[end_idx-sep]], [r[start_idx-sep], r[end_idx-sep]], color=colors[(-i+2)%8])\n",
    "\n",
    "    return fig"
   ]
  },
  {
   "cell_type": "code",
   "execution_count": null,
   "id": "794ba3e2",
   "metadata": {},
   "outputs": [],
   "source": [
    "def save_animated_graph_gif(filename='animated_plot.gif', frames=100, d_theta_arr = [1/phi], d_r_arr = [0.001], r_min_arr=[0], n_arr = [1000], star_arms_arr=[0], s_arr=[10]):\n",
    "    # Create a temp directory to store frame images\n",
    "    images = []\n",
    "\n",
    "    # Clean up\n",
    "    os.makedirs('frames', exist_ok=True)\n",
    "    for file_path in os.listdir('frames'):\n",
    "        os.remove(os.path.join('frames', file_path))\n",
    "    os.rmdir('frames')\n",
    "    os.makedirs('frames', exist_ok=True)\n",
    "\n",
    "    for i in range(frames):\n",
    "        fig = make_spiral(d_theta=d_theta_arr[i % len(d_theta_arr)], \n",
    "                            d_r=d_r_arr[i % len(d_r_arr)], \n",
    "                            r_min=r_min_arr[i % len(r_min_arr)], \n",
    "                            n=n_arr[i % len(n_arr)],\n",
    "                            star_arms=star_arms_arr[i % len(star_arms_arr)],\n",
    "                            s=s_arr[i% len(s_arr)])\n",
    "        frame_path = f'frames/frame_{i:03d}.png'\n",
    "        plt.savefig(frame_path, transparent=False)\n",
    "        plt.close(fig)\n",
    "        images.append(imageio.imread(frame_path))\n",
    "\n",
    "    # Save as GIF\n",
    "    imageio.mimsave(filename, images, duration=0.2, disposal=True)\n",
    "\n",
    "    print(f\"Saved animation to {filename}\")"
   ]
  },
  {
   "cell_type": "code",
   "execution_count": 13,
   "id": "2338e7fa",
   "metadata": {},
   "outputs": [],
   "source": [
    "scale = 1"
   ]
  },
  {
   "cell_type": "code",
   "execution_count": 17,
   "id": "d3f5316a",
   "metadata": {},
   "outputs": [
    {
     "name": "stdout",
     "output_type": "stream",
     "text": [
      "[0, 0, 0, 0, 0, 0, 0, 0, 0, 0, 0, 0, 0, 0, 1, 1, 2, 2, 3, 3, 4, 4, 5, 5, 6, 6, 7, 7, 8, 8]\n",
      "Saved animation to outside_spiral.gif\n",
      "Saved animation to dot_size.gif\n"
     ]
    }
   ],
   "source": [
    "d_theta_min = 1/phi\n",
    "d_theta_max = 5/8\n",
    "d_r_max = -0.001\n",
    "d_r_min = 0\n",
    "N=30 * scale\n",
    "d_theta_arr = np.linspace(d_theta_min, d_theta_max, num=N, endpoint=True)\n",
    "d_r_arr = np.linspace(d_r_min, d_r_max, num=N, endpoint=True)\n",
    "# r_min_arr=(1-d_r_arr*1000)\n",
    "n_arr = np.linspace(1000,8, num=N, endpoint=True)\n",
    "r_min_arr=[1]\n",
    "star_arms_arr=[0] * 12 * scale\n",
    "for i in range(9):\n",
    "    star_arms_arr += [i] * scale * 2\n",
    "\n",
    "print(star_arms_arr)\n",
    "save_animated_graph_gif(filename=\"outside_spiral.gif\", d_theta_arr=d_theta_arr, d_r_arr=[d_r_max], frames=N, r_min_arr=r_min_arr, n_arr=n_arr, star_arms_arr=star_arms_arr)\n",
    "s_arr = np.linspace(10, 400, num=100)\n",
    "save_animated_graph_gif(filename=\"dot_size.gif\", d_theta_arr=[d_theta_max], d_r_arr=[d_r_max], frames=100, r_min_arr=r_min_arr, n_arr=[8], star_arms_arr=[8], s_arr=s_arr)"
   ]
  },
  {
   "cell_type": "code",
   "execution_count": 70,
   "id": "d3cfa527",
   "metadata": {},
   "outputs": [
    {
     "name": "stdout",
     "output_type": "stream",
     "text": [
      "Saved animation to dot_to_spiral.gif\n",
      "Saved animation to spiral_to_sun.gif\n",
      "Saved animation to sun_to_lines.gif\n",
      "Saved animation to lines_to_dot.gif\n"
     ]
    }
   ],
   "source": [
    "\n",
    "\n",
    "d_theta_min = 0\n",
    "d_theta_max = 0.01\n",
    "d_r_min = 0\n",
    "d_r_max = 0.001\n",
    "N=20 * scale\n",
    "d_theta_arr = np.linspace(d_theta_min, d_theta_max, num=N, endpoint=True)\n",
    "d_r_arr = np.linspace(d_r_min, d_r_max, num=N, endpoint=True)\n",
    "save_animated_graph_gif(filename=\"dot_to_spiral.gif\", d_theta_arr=d_theta_arr, d_r_arr=d_r_arr, frames=N)\n",
    "\n",
    "d_theta_min = 0.01\n",
    "d_theta_max = 1/phi\n",
    "N=10 * scale\n",
    "d_theta_arr = np.linspace(d_theta_min, d_theta_max, num=N, endpoint=True)\n",
    "save_animated_graph_gif(filename=\"spiral_to_sun.gif\", d_theta_arr=d_theta_arr, frames=N)\n",
    "\n",
    "d_theta_min = 1/phi\n",
    "d_theta_max = 5/8\n",
    "N=10 * scale\n",
    "d_theta_arr = np.linspace(d_theta_min, d_theta_max, num=N, endpoint=True)\n",
    "save_animated_graph_gif(filename=\"sun_to_lines.gif\", d_theta_arr=d_theta_arr, frames=N)\n",
    "\n",
    "d_theta_min = 5/8\n",
    "d_theta_max = 1\n",
    "d_r_min = 0.001\n",
    "d_r_max = 0\n",
    "N=5 * scale\n",
    "d_theta_arr = np.linspace(d_theta_min, d_theta_max, num=N, endpoint=True)\n",
    "d_r_arr = np.linspace(d_r_min, d_r_max, num=N, endpoint=True)\n",
    "# print(d_r_arr)\n",
    "save_animated_graph_gif(filename=\"lines_to_dot.gif\", d_theta_arr=d_theta_arr, d_r_arr=d_r_arr, frames=N)"
   ]
  },
  {
   "cell_type": "code",
   "execution_count": null,
   "id": "c3fd2b99",
   "metadata": {},
   "outputs": [],
   "source": []
  }
 ],
 "metadata": {
  "kernelspec": {
   "display_name": "venv",
   "language": "python",
   "name": "python3"
  },
  "language_info": {
   "codemirror_mode": {
    "name": "ipython",
    "version": 3
   },
   "file_extension": ".py",
   "mimetype": "text/x-python",
   "name": "python",
   "nbconvert_exporter": "python",
   "pygments_lexer": "ipython3",
   "version": "3.12.11"
  }
 },
 "nbformat": 4,
 "nbformat_minor": 5
}
